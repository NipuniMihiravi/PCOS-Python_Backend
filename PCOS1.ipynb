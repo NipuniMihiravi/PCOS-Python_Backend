{
 "cells": [
  {
   "cell_type": "code",
   "execution_count": 5,
   "id": "c8f726d0-634b-4d80-abf6-c0272fdcf4cd",
   "metadata": {},
   "outputs": [],
   "source": [
    "import pandas as pd\n",
    "import numpy as np\n",
    "import matplotlib.pyplot as plt\n",
    "train_df = pd.read_csv(\"C:/Users/wmucd/Downloads/exploring-predictive-health-factors/PCOS_train.csv\")"
   ]
  },
  {
   "cell_type": "code",
   "execution_count": 6,
   "id": "ef70278b-ccda-45b7-a31d-5f6923274d5a",
   "metadata": {},
   "outputs": [
    {
     "data": {
      "text/html": [
       "<div>\n",
       "<style scoped>\n",
       "    .dataframe tbody tr th:only-of-type {\n",
       "        vertical-align: middle;\n",
       "    }\n",
       "\n",
       "    .dataframe tbody tr th {\n",
       "        vertical-align: top;\n",
       "    }\n",
       "\n",
       "    .dataframe thead th {\n",
       "        text-align: right;\n",
       "    }\n",
       "</style>\n",
       "<table border=\"1\" class=\"dataframe\">\n",
       "  <thead>\n",
       "    <tr style=\"text-align: right;\">\n",
       "      <th></th>\n",
       "      <th>ID</th>\n",
       "      <th>Age</th>\n",
       "      <th>Weight_kg</th>\n",
       "      <th>PCOS</th>\n",
       "      <th>Hormonal_Imbalance</th>\n",
       "      <th>Hyperandrogenism</th>\n",
       "      <th>Hirsutism</th>\n",
       "      <th>Conception_Difficulty</th>\n",
       "      <th>Insulin_Resistance</th>\n",
       "      <th>Exercise_Frequency</th>\n",
       "      <th>Exercise_Type</th>\n",
       "      <th>Exercise_Duration</th>\n",
       "      <th>Sleep_Hours</th>\n",
       "      <th>Exercise_Benefit</th>\n",
       "    </tr>\n",
       "  </thead>\n",
       "  <tbody>\n",
       "    <tr>\n",
       "      <th>0</th>\n",
       "      <td>0</td>\n",
       "      <td>20-25</td>\n",
       "      <td>64.0</td>\n",
       "      <td>No</td>\n",
       "      <td>No</td>\n",
       "      <td>No</td>\n",
       "      <td>No</td>\n",
       "      <td>No</td>\n",
       "      <td>No</td>\n",
       "      <td>Rarely</td>\n",
       "      <td>Cardio (e.g., running, cycling, swimming)</td>\n",
       "      <td>30 minutes</td>\n",
       "      <td>Less than 6 hours</td>\n",
       "      <td>Somewhat</td>\n",
       "    </tr>\n",
       "    <tr>\n",
       "      <th>1</th>\n",
       "      <td>1</td>\n",
       "      <td>15-20</td>\n",
       "      <td>55.0</td>\n",
       "      <td>No</td>\n",
       "      <td>No</td>\n",
       "      <td>No</td>\n",
       "      <td>No</td>\n",
       "      <td>No</td>\n",
       "      <td>No</td>\n",
       "      <td>6-8 Times a Week</td>\n",
       "      <td>No Exercise</td>\n",
       "      <td>Less than 30 minutes</td>\n",
       "      <td>6-8 hours</td>\n",
       "      <td>Somewhat</td>\n",
       "    </tr>\n",
       "    <tr>\n",
       "      <th>2</th>\n",
       "      <td>2</td>\n",
       "      <td>15-20</td>\n",
       "      <td>91.0</td>\n",
       "      <td>No</td>\n",
       "      <td>No</td>\n",
       "      <td>No</td>\n",
       "      <td>Yes</td>\n",
       "      <td>No</td>\n",
       "      <td>No</td>\n",
       "      <td>Rarely</td>\n",
       "      <td>Cardio (e.g., running, cycling, swimming)</td>\n",
       "      <td>Less than 30 minutes</td>\n",
       "      <td>6-8 hours</td>\n",
       "      <td>Somewhat</td>\n",
       "    </tr>\n",
       "    <tr>\n",
       "      <th>3</th>\n",
       "      <td>3</td>\n",
       "      <td>15-20</td>\n",
       "      <td>56.0</td>\n",
       "      <td>No</td>\n",
       "      <td>No</td>\n",
       "      <td>No</td>\n",
       "      <td>No</td>\n",
       "      <td>No</td>\n",
       "      <td>No</td>\n",
       "      <td>6-8 Times a Week</td>\n",
       "      <td>Cardio (e.g., running, cycling, swimming)</td>\n",
       "      <td>45 minutes</td>\n",
       "      <td>6-8 hours</td>\n",
       "      <td>Not at All</td>\n",
       "    </tr>\n",
       "    <tr>\n",
       "      <th>4</th>\n",
       "      <td>4</td>\n",
       "      <td>15-20</td>\n",
       "      <td>47.0</td>\n",
       "      <td>No</td>\n",
       "      <td>Yes</td>\n",
       "      <td>No</td>\n",
       "      <td>No</td>\n",
       "      <td>No</td>\n",
       "      <td>No</td>\n",
       "      <td>Rarely</td>\n",
       "      <td>No Exercise</td>\n",
       "      <td>Not Applicable</td>\n",
       "      <td>6-8 hours</td>\n",
       "      <td>Not Much</td>\n",
       "    </tr>\n",
       "  </tbody>\n",
       "</table>\n",
       "</div>"
      ],
      "text/plain": [
       "   ID    Age  Weight_kg PCOS Hormonal_Imbalance Hyperandrogenism Hirsutism  \\\n",
       "0   0  20-25       64.0   No                 No               No        No   \n",
       "1   1  15-20       55.0   No                 No               No        No   \n",
       "2   2  15-20       91.0   No                 No               No       Yes   \n",
       "3   3  15-20       56.0   No                 No               No        No   \n",
       "4   4  15-20       47.0   No                Yes               No        No   \n",
       "\n",
       "  Conception_Difficulty Insulin_Resistance Exercise_Frequency  \\\n",
       "0                    No                 No             Rarely   \n",
       "1                    No                 No   6-8 Times a Week   \n",
       "2                    No                 No             Rarely   \n",
       "3                    No                 No   6-8 Times a Week   \n",
       "4                    No                 No             Rarely   \n",
       "\n",
       "                               Exercise_Type     Exercise_Duration  \\\n",
       "0  Cardio (e.g., running, cycling, swimming)            30 minutes   \n",
       "1                                No Exercise  Less than 30 minutes   \n",
       "2  Cardio (e.g., running, cycling, swimming)  Less than 30 minutes   \n",
       "3  Cardio (e.g., running, cycling, swimming)            45 minutes   \n",
       "4                                No Exercise        Not Applicable   \n",
       "\n",
       "         Sleep_Hours Exercise_Benefit  \n",
       "0  Less than 6 hours         Somewhat  \n",
       "1          6-8 hours         Somewhat  \n",
       "2          6-8 hours         Somewhat  \n",
       "3          6-8 hours       Not at All  \n",
       "4          6-8 hours         Not Much  "
      ]
     },
     "execution_count": 6,
     "metadata": {},
     "output_type": "execute_result"
    }
   ],
   "source": [
    "train_df.head()"
   ]
  },
  {
   "cell_type": "code",
   "execution_count": 7,
   "id": "da7f2249-a4ec-4c5d-8ce3-570cb611415c",
   "metadata": {},
   "outputs": [
    {
     "data": {
      "text/plain": [
       "(210, 14)"
      ]
     },
     "execution_count": 7,
     "metadata": {},
     "output_type": "execute_result"
    }
   ],
   "source": [
    "train_df.shape"
   ]
  },
  {
   "cell_type": "code",
   "execution_count": 8,
   "id": "1844f340-0276-4d37-a2da-be9db2284842",
   "metadata": {},
   "outputs": [
    {
     "data": {
      "text/plain": [
       "ID                       0\n",
       "Age                      1\n",
       "Weight_kg                2\n",
       "PCOS                     0\n",
       "Hormonal_Imbalance       2\n",
       "Hyperandrogenism         3\n",
       "Hirsutism                5\n",
       "Conception_Difficulty    1\n",
       "Insulin_Resistance       1\n",
       "Exercise_Frequency       2\n",
       "Exercise_Type            2\n",
       "Exercise_Duration        2\n",
       "Sleep_Hours              2\n",
       "Exercise_Benefit         1\n",
       "dtype: int64"
      ]
     },
     "execution_count": 8,
     "metadata": {},
     "output_type": "execute_result"
    }
   ],
   "source": [
    "train_df.isnull().sum()"
   ]
  },
  {
   "cell_type": "code",
   "execution_count": 12,
   "id": "5f928141-4cde-40df-a63a-4b815dfb333d",
   "metadata": {},
   "outputs": [],
   "source": [
    "from sklearn.preprocessing import LabelEncoder\n",
    "\n",
    "# List of columns to label encode\n",
    "columns_to_encode = ['Age', 'Weight_kg', 'PCOS', 'Hormonal_Imbalance', 'Hyperandrogenism', \n",
    "                     'Hirsutism', 'Conception_Difficulty', 'Insulin_Resistance', 'Exercise_Frequency', \n",
    "                     'Exercise_Type', 'Exercise_Duration', 'Sleep_Hours', 'Exercise_Benefit']\n",
    "\n",
    "# Initialize the LabelEncoder\n",
    "le = LabelEncoder()\n"
   ]
  },
  {
   "cell_type": "code",
   "execution_count": 15,
   "id": "699d5e91-353b-4af5-a150-50bc7b4bde99",
   "metadata": {},
   "outputs": [
    {
     "name": "stdout",
     "output_type": "stream",
     "text": [
      "After filling missing values:\n",
      "     Age  Weight_kg PCOS Hormonal_Imbalance Hyperandrogenism Hirsutism  \\\n",
      "0  20-25       64.0   No                 No               No        No   \n",
      "1  15-20       55.0   No                 No               No        No   \n",
      "2  15-20       91.0   No                 No               No       Yes   \n",
      "3  15-20       56.0   No                 No               No        No   \n",
      "4  15-20       47.0   No                Yes               No        No   \n",
      "\n",
      "  Conception_Difficulty Insulin_Resistance Exercise_Frequency  \\\n",
      "0                    No                 No             Rarely   \n",
      "1                    No                 No   6-8 Times a Week   \n",
      "2                    No                 No             Rarely   \n",
      "3                    No                 No   6-8 Times a Week   \n",
      "4                    No                 No             Rarely   \n",
      "\n",
      "                               Exercise_Type     Exercise_Duration  \\\n",
      "0  Cardio (e.g., running, cycling, swimming)            30 minutes   \n",
      "1                                No Exercise  Less than 30 minutes   \n",
      "2  Cardio (e.g., running, cycling, swimming)  Less than 30 minutes   \n",
      "3  Cardio (e.g., running, cycling, swimming)            45 minutes   \n",
      "4                                No Exercise        Not Applicable   \n",
      "\n",
      "         Sleep_Hours Exercise_Benefit  \n",
      "0  Less than 6 hours         Somewhat  \n",
      "1          6-8 hours         Somewhat  \n",
      "2          6-8 hours         Somewhat  \n",
      "3          6-8 hours       Not at All  \n",
      "4          6-8 hours         Not Much  \n"
     ]
    }
   ],
   "source": [
    "# Fill missing values with the mode (most frequent value) for each column\n",
    "for col in columns_to_encode:\n",
    "    train_df[col] = train_df[col].fillna(train_df[col].mode()[0])\n",
    "\n",
    "# Display the DataFrame after filling missing values\n",
    "print(\"After filling missing values:\")\n",
    "print(train_df[columns_to_encode].head())"
   ]
  },
  {
   "cell_type": "code",
   "execution_count": 17,
   "id": "28bf7e33-4df4-4d90-9988-b2d792b1f4f4",
   "metadata": {},
   "outputs": [
    {
     "name": "stdout",
     "output_type": "stream",
     "text": [
      "After applying LabelEncoder:\n",
      "{'Age': array([1, 0, 7, 4, 6, 2, 8, 3, 5, 9]), 'Weight_kg': array([37, 28, 56, 29, 16, 10, 31, 54, 44, 35, 48, 41, 39,  2, 45, 21, 22,\n",
      "       17, 46, 24, 26,  7, 19, 55, 30, 58, 13, 12, 40, 14, 32, 20, 36, 15,\n",
      "       43,  9, 33, 38, 18, 42,  5, 51, 34, 23,  8, 11, 52, 49,  4, 47, 27,\n",
      "       53, 57,  1, 50,  6,  3,  0, 25], dtype=int64), 'PCOS': array([0, 1]), 'Hormonal_Imbalance': array([0, 2, 1, 3]), 'Hyperandrogenism': array([0, 1]), 'Hirsutism': array([0, 2, 1]), 'Conception_Difficulty': array([0, 3, 1, 2]), 'Insulin_Resistance': array([0, 2, 1]), 'Exercise_Frequency': array([7, 2, 6, 0, 1, 3, 5, 4]), 'Exercise_Type': array([ 1, 10,  4,  7,  9,  2,  5, 15, 14,  8,  3,  0, 12, 13, 11,  6]), 'Exercise_Duration': array([1, 4, 3, 7, 6, 0, 5, 2]), 'Sleep_Hours': array([3, 1, 2, 4, 0]), 'Exercise_Benefit': array([2, 1, 0, 3])}\n"
     ]
    }
   ],
   "source": [
    "from sklearn.preprocessing import LabelEncoder\n",
    "\n",
    "# Initialize the LabelEncoder\n",
    "le = LabelEncoder()\n",
    "\n",
    "# Apply LabelEncoder to each column in the list\n",
    "for col in columns_to_encode:\n",
    "    train_df[col] = le.fit_transform(train_df[col])\n",
    "\n",
    "# Display the unique values after encoding for each column\n",
    "encoded_values = {col: train_df[col].unique() for col in columns_to_encode}\n",
    "print(\"After applying LabelEncoder:\")\n",
    "print(encoded_values)\n"
   ]
  },
  {
   "cell_type": "code",
   "execution_count": 19,
   "id": "b062dfea-916f-4935-b2dd-f676e659a482",
   "metadata": {},
   "outputs": [
    {
     "data": {
      "text/plain": [
       "ID                       0\n",
       "Age                      0\n",
       "Weight_kg                0\n",
       "PCOS                     0\n",
       "Hormonal_Imbalance       0\n",
       "Hyperandrogenism         0\n",
       "Hirsutism                0\n",
       "Conception_Difficulty    0\n",
       "Insulin_Resistance       0\n",
       "Exercise_Frequency       0\n",
       "Exercise_Type            0\n",
       "Exercise_Duration        0\n",
       "Sleep_Hours              0\n",
       "Exercise_Benefit         0\n",
       "dtype: int64"
      ]
     },
     "execution_count": 19,
     "metadata": {},
     "output_type": "execute_result"
    }
   ],
   "source": [
    "train_df.isnull().sum()"
   ]
  },
  {
   "cell_type": "code",
   "execution_count": 21,
   "id": "0515654f-1ce1-4ca6-a2a3-7d0edb981f54",
   "metadata": {},
   "outputs": [],
   "source": [
    "train_feature = train_df.drop(['ID', 'PCOS'], axis=1)  # Drop 'ID' and 'PCOS' from features\n",
    "train_label = train_df['PCOS']  # Target variable\n"
   ]
  },
  {
   "cell_type": "code",
   "execution_count": 23,
   "id": "eacbca32-8254-48dc-9578-492081e3e1c2",
   "metadata": {},
   "outputs": [
    {
     "data": {
      "text/html": [
       "<style>#sk-container-id-1 {\n",
       "  /* Definition of color scheme common for light and dark mode */\n",
       "  --sklearn-color-text: black;\n",
       "  --sklearn-color-line: gray;\n",
       "  /* Definition of color scheme for unfitted estimators */\n",
       "  --sklearn-color-unfitted-level-0: #fff5e6;\n",
       "  --sklearn-color-unfitted-level-1: #f6e4d2;\n",
       "  --sklearn-color-unfitted-level-2: #ffe0b3;\n",
       "  --sklearn-color-unfitted-level-3: chocolate;\n",
       "  /* Definition of color scheme for fitted estimators */\n",
       "  --sklearn-color-fitted-level-0: #f0f8ff;\n",
       "  --sklearn-color-fitted-level-1: #d4ebff;\n",
       "  --sklearn-color-fitted-level-2: #b3dbfd;\n",
       "  --sklearn-color-fitted-level-3: cornflowerblue;\n",
       "\n",
       "  /* Specific color for light theme */\n",
       "  --sklearn-color-text-on-default-background: var(--sg-text-color, var(--theme-code-foreground, var(--jp-content-font-color1, black)));\n",
       "  --sklearn-color-background: var(--sg-background-color, var(--theme-background, var(--jp-layout-color0, white)));\n",
       "  --sklearn-color-border-box: var(--sg-text-color, var(--theme-code-foreground, var(--jp-content-font-color1, black)));\n",
       "  --sklearn-color-icon: #696969;\n",
       "\n",
       "  @media (prefers-color-scheme: dark) {\n",
       "    /* Redefinition of color scheme for dark theme */\n",
       "    --sklearn-color-text-on-default-background: var(--sg-text-color, var(--theme-code-foreground, var(--jp-content-font-color1, white)));\n",
       "    --sklearn-color-background: var(--sg-background-color, var(--theme-background, var(--jp-layout-color0, #111)));\n",
       "    --sklearn-color-border-box: var(--sg-text-color, var(--theme-code-foreground, var(--jp-content-font-color1, white)));\n",
       "    --sklearn-color-icon: #878787;\n",
       "  }\n",
       "}\n",
       "\n",
       "#sk-container-id-1 {\n",
       "  color: var(--sklearn-color-text);\n",
       "}\n",
       "\n",
       "#sk-container-id-1 pre {\n",
       "  padding: 0;\n",
       "}\n",
       "\n",
       "#sk-container-id-1 input.sk-hidden--visually {\n",
       "  border: 0;\n",
       "  clip: rect(1px 1px 1px 1px);\n",
       "  clip: rect(1px, 1px, 1px, 1px);\n",
       "  height: 1px;\n",
       "  margin: -1px;\n",
       "  overflow: hidden;\n",
       "  padding: 0;\n",
       "  position: absolute;\n",
       "  width: 1px;\n",
       "}\n",
       "\n",
       "#sk-container-id-1 div.sk-dashed-wrapped {\n",
       "  border: 1px dashed var(--sklearn-color-line);\n",
       "  margin: 0 0.4em 0.5em 0.4em;\n",
       "  box-sizing: border-box;\n",
       "  padding-bottom: 0.4em;\n",
       "  background-color: var(--sklearn-color-background);\n",
       "}\n",
       "\n",
       "#sk-container-id-1 div.sk-container {\n",
       "  /* jupyter's `normalize.less` sets `[hidden] { display: none; }`\n",
       "     but bootstrap.min.css set `[hidden] { display: none !important; }`\n",
       "     so we also need the `!important` here to be able to override the\n",
       "     default hidden behavior on the sphinx rendered scikit-learn.org.\n",
       "     See: https://github.com/scikit-learn/scikit-learn/issues/21755 */\n",
       "  display: inline-block !important;\n",
       "  position: relative;\n",
       "}\n",
       "\n",
       "#sk-container-id-1 div.sk-text-repr-fallback {\n",
       "  display: none;\n",
       "}\n",
       "\n",
       "div.sk-parallel-item,\n",
       "div.sk-serial,\n",
       "div.sk-item {\n",
       "  /* draw centered vertical line to link estimators */\n",
       "  background-image: linear-gradient(var(--sklearn-color-text-on-default-background), var(--sklearn-color-text-on-default-background));\n",
       "  background-size: 2px 100%;\n",
       "  background-repeat: no-repeat;\n",
       "  background-position: center center;\n",
       "}\n",
       "\n",
       "/* Parallel-specific style estimator block */\n",
       "\n",
       "#sk-container-id-1 div.sk-parallel-item::after {\n",
       "  content: \"\";\n",
       "  width: 100%;\n",
       "  border-bottom: 2px solid var(--sklearn-color-text-on-default-background);\n",
       "  flex-grow: 1;\n",
       "}\n",
       "\n",
       "#sk-container-id-1 div.sk-parallel {\n",
       "  display: flex;\n",
       "  align-items: stretch;\n",
       "  justify-content: center;\n",
       "  background-color: var(--sklearn-color-background);\n",
       "  position: relative;\n",
       "}\n",
       "\n",
       "#sk-container-id-1 div.sk-parallel-item {\n",
       "  display: flex;\n",
       "  flex-direction: column;\n",
       "}\n",
       "\n",
       "#sk-container-id-1 div.sk-parallel-item:first-child::after {\n",
       "  align-self: flex-end;\n",
       "  width: 50%;\n",
       "}\n",
       "\n",
       "#sk-container-id-1 div.sk-parallel-item:last-child::after {\n",
       "  align-self: flex-start;\n",
       "  width: 50%;\n",
       "}\n",
       "\n",
       "#sk-container-id-1 div.sk-parallel-item:only-child::after {\n",
       "  width: 0;\n",
       "}\n",
       "\n",
       "/* Serial-specific style estimator block */\n",
       "\n",
       "#sk-container-id-1 div.sk-serial {\n",
       "  display: flex;\n",
       "  flex-direction: column;\n",
       "  align-items: center;\n",
       "  background-color: var(--sklearn-color-background);\n",
       "  padding-right: 1em;\n",
       "  padding-left: 1em;\n",
       "}\n",
       "\n",
       "\n",
       "/* Toggleable style: style used for estimator/Pipeline/ColumnTransformer box that is\n",
       "clickable and can be expanded/collapsed.\n",
       "- Pipeline and ColumnTransformer use this feature and define the default style\n",
       "- Estimators will overwrite some part of the style using the `sk-estimator` class\n",
       "*/\n",
       "\n",
       "/* Pipeline and ColumnTransformer style (default) */\n",
       "\n",
       "#sk-container-id-1 div.sk-toggleable {\n",
       "  /* Default theme specific background. It is overwritten whether we have a\n",
       "  specific estimator or a Pipeline/ColumnTransformer */\n",
       "  background-color: var(--sklearn-color-background);\n",
       "}\n",
       "\n",
       "/* Toggleable label */\n",
       "#sk-container-id-1 label.sk-toggleable__label {\n",
       "  cursor: pointer;\n",
       "  display: block;\n",
       "  width: 100%;\n",
       "  margin-bottom: 0;\n",
       "  padding: 0.5em;\n",
       "  box-sizing: border-box;\n",
       "  text-align: center;\n",
       "}\n",
       "\n",
       "#sk-container-id-1 label.sk-toggleable__label-arrow:before {\n",
       "  /* Arrow on the left of the label */\n",
       "  content: \"▸\";\n",
       "  float: left;\n",
       "  margin-right: 0.25em;\n",
       "  color: var(--sklearn-color-icon);\n",
       "}\n",
       "\n",
       "#sk-container-id-1 label.sk-toggleable__label-arrow:hover:before {\n",
       "  color: var(--sklearn-color-text);\n",
       "}\n",
       "\n",
       "/* Toggleable content - dropdown */\n",
       "\n",
       "#sk-container-id-1 div.sk-toggleable__content {\n",
       "  max-height: 0;\n",
       "  max-width: 0;\n",
       "  overflow: hidden;\n",
       "  text-align: left;\n",
       "  /* unfitted */\n",
       "  background-color: var(--sklearn-color-unfitted-level-0);\n",
       "}\n",
       "\n",
       "#sk-container-id-1 div.sk-toggleable__content.fitted {\n",
       "  /* fitted */\n",
       "  background-color: var(--sklearn-color-fitted-level-0);\n",
       "}\n",
       "\n",
       "#sk-container-id-1 div.sk-toggleable__content pre {\n",
       "  margin: 0.2em;\n",
       "  border-radius: 0.25em;\n",
       "  color: var(--sklearn-color-text);\n",
       "  /* unfitted */\n",
       "  background-color: var(--sklearn-color-unfitted-level-0);\n",
       "}\n",
       "\n",
       "#sk-container-id-1 div.sk-toggleable__content.fitted pre {\n",
       "  /* unfitted */\n",
       "  background-color: var(--sklearn-color-fitted-level-0);\n",
       "}\n",
       "\n",
       "#sk-container-id-1 input.sk-toggleable__control:checked~div.sk-toggleable__content {\n",
       "  /* Expand drop-down */\n",
       "  max-height: 200px;\n",
       "  max-width: 100%;\n",
       "  overflow: auto;\n",
       "}\n",
       "\n",
       "#sk-container-id-1 input.sk-toggleable__control:checked~label.sk-toggleable__label-arrow:before {\n",
       "  content: \"▾\";\n",
       "}\n",
       "\n",
       "/* Pipeline/ColumnTransformer-specific style */\n",
       "\n",
       "#sk-container-id-1 div.sk-label input.sk-toggleable__control:checked~label.sk-toggleable__label {\n",
       "  color: var(--sklearn-color-text);\n",
       "  background-color: var(--sklearn-color-unfitted-level-2);\n",
       "}\n",
       "\n",
       "#sk-container-id-1 div.sk-label.fitted input.sk-toggleable__control:checked~label.sk-toggleable__label {\n",
       "  background-color: var(--sklearn-color-fitted-level-2);\n",
       "}\n",
       "\n",
       "/* Estimator-specific style */\n",
       "\n",
       "/* Colorize estimator box */\n",
       "#sk-container-id-1 div.sk-estimator input.sk-toggleable__control:checked~label.sk-toggleable__label {\n",
       "  /* unfitted */\n",
       "  background-color: var(--sklearn-color-unfitted-level-2);\n",
       "}\n",
       "\n",
       "#sk-container-id-1 div.sk-estimator.fitted input.sk-toggleable__control:checked~label.sk-toggleable__label {\n",
       "  /* fitted */\n",
       "  background-color: var(--sklearn-color-fitted-level-2);\n",
       "}\n",
       "\n",
       "#sk-container-id-1 div.sk-label label.sk-toggleable__label,\n",
       "#sk-container-id-1 div.sk-label label {\n",
       "  /* The background is the default theme color */\n",
       "  color: var(--sklearn-color-text-on-default-background);\n",
       "}\n",
       "\n",
       "/* On hover, darken the color of the background */\n",
       "#sk-container-id-1 div.sk-label:hover label.sk-toggleable__label {\n",
       "  color: var(--sklearn-color-text);\n",
       "  background-color: var(--sklearn-color-unfitted-level-2);\n",
       "}\n",
       "\n",
       "/* Label box, darken color on hover, fitted */\n",
       "#sk-container-id-1 div.sk-label.fitted:hover label.sk-toggleable__label.fitted {\n",
       "  color: var(--sklearn-color-text);\n",
       "  background-color: var(--sklearn-color-fitted-level-2);\n",
       "}\n",
       "\n",
       "/* Estimator label */\n",
       "\n",
       "#sk-container-id-1 div.sk-label label {\n",
       "  font-family: monospace;\n",
       "  font-weight: bold;\n",
       "  display: inline-block;\n",
       "  line-height: 1.2em;\n",
       "}\n",
       "\n",
       "#sk-container-id-1 div.sk-label-container {\n",
       "  text-align: center;\n",
       "}\n",
       "\n",
       "/* Estimator-specific */\n",
       "#sk-container-id-1 div.sk-estimator {\n",
       "  font-family: monospace;\n",
       "  border: 1px dotted var(--sklearn-color-border-box);\n",
       "  border-radius: 0.25em;\n",
       "  box-sizing: border-box;\n",
       "  margin-bottom: 0.5em;\n",
       "  /* unfitted */\n",
       "  background-color: var(--sklearn-color-unfitted-level-0);\n",
       "}\n",
       "\n",
       "#sk-container-id-1 div.sk-estimator.fitted {\n",
       "  /* fitted */\n",
       "  background-color: var(--sklearn-color-fitted-level-0);\n",
       "}\n",
       "\n",
       "/* on hover */\n",
       "#sk-container-id-1 div.sk-estimator:hover {\n",
       "  /* unfitted */\n",
       "  background-color: var(--sklearn-color-unfitted-level-2);\n",
       "}\n",
       "\n",
       "#sk-container-id-1 div.sk-estimator.fitted:hover {\n",
       "  /* fitted */\n",
       "  background-color: var(--sklearn-color-fitted-level-2);\n",
       "}\n",
       "\n",
       "/* Specification for estimator info (e.g. \"i\" and \"?\") */\n",
       "\n",
       "/* Common style for \"i\" and \"?\" */\n",
       "\n",
       ".sk-estimator-doc-link,\n",
       "a:link.sk-estimator-doc-link,\n",
       "a:visited.sk-estimator-doc-link {\n",
       "  float: right;\n",
       "  font-size: smaller;\n",
       "  line-height: 1em;\n",
       "  font-family: monospace;\n",
       "  background-color: var(--sklearn-color-background);\n",
       "  border-radius: 1em;\n",
       "  height: 1em;\n",
       "  width: 1em;\n",
       "  text-decoration: none !important;\n",
       "  margin-left: 1ex;\n",
       "  /* unfitted */\n",
       "  border: var(--sklearn-color-unfitted-level-1) 1pt solid;\n",
       "  color: var(--sklearn-color-unfitted-level-1);\n",
       "}\n",
       "\n",
       ".sk-estimator-doc-link.fitted,\n",
       "a:link.sk-estimator-doc-link.fitted,\n",
       "a:visited.sk-estimator-doc-link.fitted {\n",
       "  /* fitted */\n",
       "  border: var(--sklearn-color-fitted-level-1) 1pt solid;\n",
       "  color: var(--sklearn-color-fitted-level-1);\n",
       "}\n",
       "\n",
       "/* On hover */\n",
       "div.sk-estimator:hover .sk-estimator-doc-link:hover,\n",
       ".sk-estimator-doc-link:hover,\n",
       "div.sk-label-container:hover .sk-estimator-doc-link:hover,\n",
       ".sk-estimator-doc-link:hover {\n",
       "  /* unfitted */\n",
       "  background-color: var(--sklearn-color-unfitted-level-3);\n",
       "  color: var(--sklearn-color-background);\n",
       "  text-decoration: none;\n",
       "}\n",
       "\n",
       "div.sk-estimator.fitted:hover .sk-estimator-doc-link.fitted:hover,\n",
       ".sk-estimator-doc-link.fitted:hover,\n",
       "div.sk-label-container:hover .sk-estimator-doc-link.fitted:hover,\n",
       ".sk-estimator-doc-link.fitted:hover {\n",
       "  /* fitted */\n",
       "  background-color: var(--sklearn-color-fitted-level-3);\n",
       "  color: var(--sklearn-color-background);\n",
       "  text-decoration: none;\n",
       "}\n",
       "\n",
       "/* Span, style for the box shown on hovering the info icon */\n",
       ".sk-estimator-doc-link span {\n",
       "  display: none;\n",
       "  z-index: 9999;\n",
       "  position: relative;\n",
       "  font-weight: normal;\n",
       "  right: .2ex;\n",
       "  padding: .5ex;\n",
       "  margin: .5ex;\n",
       "  width: min-content;\n",
       "  min-width: 20ex;\n",
       "  max-width: 50ex;\n",
       "  color: var(--sklearn-color-text);\n",
       "  box-shadow: 2pt 2pt 4pt #999;\n",
       "  /* unfitted */\n",
       "  background: var(--sklearn-color-unfitted-level-0);\n",
       "  border: .5pt solid var(--sklearn-color-unfitted-level-3);\n",
       "}\n",
       "\n",
       ".sk-estimator-doc-link.fitted span {\n",
       "  /* fitted */\n",
       "  background: var(--sklearn-color-fitted-level-0);\n",
       "  border: var(--sklearn-color-fitted-level-3);\n",
       "}\n",
       "\n",
       ".sk-estimator-doc-link:hover span {\n",
       "  display: block;\n",
       "}\n",
       "\n",
       "/* \"?\"-specific style due to the `<a>` HTML tag */\n",
       "\n",
       "#sk-container-id-1 a.estimator_doc_link {\n",
       "  float: right;\n",
       "  font-size: 1rem;\n",
       "  line-height: 1em;\n",
       "  font-family: monospace;\n",
       "  background-color: var(--sklearn-color-background);\n",
       "  border-radius: 1rem;\n",
       "  height: 1rem;\n",
       "  width: 1rem;\n",
       "  text-decoration: none;\n",
       "  /* unfitted */\n",
       "  color: var(--sklearn-color-unfitted-level-1);\n",
       "  border: var(--sklearn-color-unfitted-level-1) 1pt solid;\n",
       "}\n",
       "\n",
       "#sk-container-id-1 a.estimator_doc_link.fitted {\n",
       "  /* fitted */\n",
       "  border: var(--sklearn-color-fitted-level-1) 1pt solid;\n",
       "  color: var(--sklearn-color-fitted-level-1);\n",
       "}\n",
       "\n",
       "/* On hover */\n",
       "#sk-container-id-1 a.estimator_doc_link:hover {\n",
       "  /* unfitted */\n",
       "  background-color: var(--sklearn-color-unfitted-level-3);\n",
       "  color: var(--sklearn-color-background);\n",
       "  text-decoration: none;\n",
       "}\n",
       "\n",
       "#sk-container-id-1 a.estimator_doc_link.fitted:hover {\n",
       "  /* fitted */\n",
       "  background-color: var(--sklearn-color-fitted-level-3);\n",
       "}\n",
       "</style><div id=\"sk-container-id-1\" class=\"sk-top-container\"><div class=\"sk-text-repr-fallback\"><pre>RandomForestClassifier(random_state=42)</pre><b>In a Jupyter environment, please rerun this cell to show the HTML representation or trust the notebook. <br />On GitHub, the HTML representation is unable to render, please try loading this page with nbviewer.org.</b></div><div class=\"sk-container\" hidden><div class=\"sk-item\"><div class=\"sk-estimator fitted sk-toggleable\"><input class=\"sk-toggleable__control sk-hidden--visually\" id=\"sk-estimator-id-1\" type=\"checkbox\" checked><label for=\"sk-estimator-id-1\" class=\"sk-toggleable__label fitted sk-toggleable__label-arrow fitted\">&nbsp;&nbsp;RandomForestClassifier<a class=\"sk-estimator-doc-link fitted\" rel=\"noreferrer\" target=\"_blank\" href=\"https://scikit-learn.org/1.4/modules/generated/sklearn.ensemble.RandomForestClassifier.html\">?<span>Documentation for RandomForestClassifier</span></a><span class=\"sk-estimator-doc-link fitted\">i<span>Fitted</span></span></label><div class=\"sk-toggleable__content fitted\"><pre>RandomForestClassifier(random_state=42)</pre></div> </div></div></div></div>"
      ],
      "text/plain": [
       "RandomForestClassifier(random_state=42)"
      ]
     },
     "execution_count": 23,
     "metadata": {},
     "output_type": "execute_result"
    }
   ],
   "source": [
    "from sklearn.ensemble import RandomForestClassifier\n",
    "\n",
    "model = RandomForestClassifier(n_estimators=100, random_state=42)\n",
    "model.fit(train_feature, train_label)\n"
   ]
  },
  {
   "cell_type": "code",
   "execution_count": 24,
   "id": "e82ecbf7-3ddd-47f5-ad49-6b08ac984699",
   "metadata": {},
   "outputs": [],
   "source": [
    "import pandas as pd\n",
    "import numpy as np\n",
    "import matplotlib.pyplot as plt\n",
    "test_df = pd.read_csv(\"C:/Users/wmucd/Downloads/exploring-predictive-health-factors/PCOS_test.csv\")"
   ]
  },
  {
   "cell_type": "code",
   "execution_count": 27,
   "id": "da131289-9247-4e8c-980c-91e410297649",
   "metadata": {},
   "outputs": [
    {
     "data": {
      "text/html": [
       "<div>\n",
       "<style scoped>\n",
       "    .dataframe tbody tr th:only-of-type {\n",
       "        vertical-align: middle;\n",
       "    }\n",
       "\n",
       "    .dataframe tbody tr th {\n",
       "        vertical-align: top;\n",
       "    }\n",
       "\n",
       "    .dataframe thead th {\n",
       "        text-align: right;\n",
       "    }\n",
       "</style>\n",
       "<table border=\"1\" class=\"dataframe\">\n",
       "  <thead>\n",
       "    <tr style=\"text-align: right;\">\n",
       "      <th></th>\n",
       "      <th>ID</th>\n",
       "      <th>Age</th>\n",
       "      <th>Weight_kg</th>\n",
       "      <th>Hormonal_Imbalance</th>\n",
       "      <th>Hyperandrogenism</th>\n",
       "      <th>Hirsutism</th>\n",
       "      <th>Conception_Difficulty</th>\n",
       "      <th>Insulin_Resistance</th>\n",
       "      <th>Exercise_Frequency</th>\n",
       "      <th>Exercise_Type</th>\n",
       "      <th>Exercise_Duration</th>\n",
       "      <th>Sleep_Hours</th>\n",
       "      <th>Exercise_Benefit</th>\n",
       "    </tr>\n",
       "  </thead>\n",
       "  <tbody>\n",
       "    <tr>\n",
       "      <th>0</th>\n",
       "      <td>0</td>\n",
       "      <td>20-25</td>\n",
       "      <td>54.0</td>\n",
       "      <td>No</td>\n",
       "      <td>No</td>\n",
       "      <td>No</td>\n",
       "      <td>No</td>\n",
       "      <td>No</td>\n",
       "      <td>Rarely</td>\n",
       "      <td>No Exercise</td>\n",
       "      <td>Less than 30 minutes</td>\n",
       "      <td>6-8 hours</td>\n",
       "      <td>Somewhat</td>\n",
       "    </tr>\n",
       "    <tr>\n",
       "      <th>1</th>\n",
       "      <td>1</td>\n",
       "      <td>20-25</td>\n",
       "      <td>65.0</td>\n",
       "      <td>Yes</td>\n",
       "      <td>No</td>\n",
       "      <td>No</td>\n",
       "      <td>No</td>\n",
       "      <td>No</td>\n",
       "      <td>3-4 Times a Week</td>\n",
       "      <td>No Exercise</td>\n",
       "      <td>Not Applicable</td>\n",
       "      <td>6-8 hours</td>\n",
       "      <td>Somewhat</td>\n",
       "    </tr>\n",
       "    <tr>\n",
       "      <th>2</th>\n",
       "      <td>2</td>\n",
       "      <td>20-25</td>\n",
       "      <td>64.0</td>\n",
       "      <td>Yes</td>\n",
       "      <td>No</td>\n",
       "      <td>No</td>\n",
       "      <td>No</td>\n",
       "      <td>No</td>\n",
       "      <td>6-8 Times a Week</td>\n",
       "      <td>Cardio (e.g.</td>\n",
       "      <td>Not Applicable</td>\n",
       "      <td>6-8 hours</td>\n",
       "      <td>Somewhat</td>\n",
       "    </tr>\n",
       "    <tr>\n",
       "      <th>3</th>\n",
       "      <td>3</td>\n",
       "      <td>Less than 20</td>\n",
       "      <td>57.0</td>\n",
       "      <td>Yes</td>\n",
       "      <td>No</td>\n",
       "      <td>Yes</td>\n",
       "      <td>No</td>\n",
       "      <td>Yes</td>\n",
       "      <td>Rarely</td>\n",
       "      <td>No Exercise</td>\n",
       "      <td>6-8 hours</td>\n",
       "      <td>6-8 hours</td>\n",
       "      <td>Somewhat</td>\n",
       "    </tr>\n",
       "    <tr>\n",
       "      <th>4</th>\n",
       "      <td>4</td>\n",
       "      <td>Less than 20</td>\n",
       "      <td>6.0</td>\n",
       "      <td>Yes</td>\n",
       "      <td>No</td>\n",
       "      <td>Yes</td>\n",
       "      <td>No</td>\n",
       "      <td>No</td>\n",
       "      <td>Rarely</td>\n",
       "      <td>Cardio (e.g.</td>\n",
       "      <td>30 minutes</td>\n",
       "      <td>6-8 hours</td>\n",
       "      <td>Somewhat</td>\n",
       "    </tr>\n",
       "  </tbody>\n",
       "</table>\n",
       "</div>"
      ],
      "text/plain": [
       "   ID           Age  Weight_kg Hormonal_Imbalance Hyperandrogenism Hirsutism  \\\n",
       "0   0         20-25       54.0                 No               No        No   \n",
       "1   1         20-25       65.0                Yes               No        No   \n",
       "2   2         20-25       64.0                Yes               No        No   \n",
       "3   3  Less than 20       57.0                Yes               No       Yes   \n",
       "4   4  Less than 20        6.0                Yes               No       Yes   \n",
       "\n",
       "  Conception_Difficulty Insulin_Resistance Exercise_Frequency Exercise_Type  \\\n",
       "0                    No                 No             Rarely   No Exercise   \n",
       "1                    No                 No   3-4 Times a Week   No Exercise   \n",
       "2                    No                 No   6-8 Times a Week  Cardio (e.g.   \n",
       "3                    No                Yes             Rarely   No Exercise   \n",
       "4                    No                 No             Rarely  Cardio (e.g.   \n",
       "\n",
       "      Exercise_Duration Sleep_Hours Exercise_Benefit  \n",
       "0  Less than 30 minutes   6-8 hours         Somewhat  \n",
       "1        Not Applicable   6-8 hours         Somewhat  \n",
       "2        Not Applicable   6-8 hours         Somewhat  \n",
       "3             6-8 hours   6-8 hours         Somewhat  \n",
       "4            30 minutes   6-8 hours         Somewhat  "
      ]
     },
     "execution_count": 27,
     "metadata": {},
     "output_type": "execute_result"
    }
   ],
   "source": [
    "test_df.head()"
   ]
  },
  {
   "cell_type": "code",
   "execution_count": 29,
   "id": "175d8711-df09-4989-8280-cc02d5eb4d6b",
   "metadata": {},
   "outputs": [
    {
     "data": {
      "text/plain": [
       "(145, 13)"
      ]
     },
     "execution_count": 29,
     "metadata": {},
     "output_type": "execute_result"
    }
   ],
   "source": [
    "test_df.shape"
   ]
  },
  {
   "cell_type": "code",
   "execution_count": 31,
   "id": "873d5325-d9f5-47b1-b907-4eb4e89c526b",
   "metadata": {},
   "outputs": [
    {
     "data": {
      "text/plain": [
       "ID                       0\n",
       "Age                      1\n",
       "Weight_kg                2\n",
       "Hormonal_Imbalance       3\n",
       "Hyperandrogenism         1\n",
       "Hirsutism                2\n",
       "Conception_Difficulty    2\n",
       "Insulin_Resistance       1\n",
       "Exercise_Frequency       1\n",
       "Exercise_Type            1\n",
       "Exercise_Duration        0\n",
       "Sleep_Hours              1\n",
       "Exercise_Benefit         1\n",
       "dtype: int64"
      ]
     },
     "execution_count": 31,
     "metadata": {},
     "output_type": "execute_result"
    }
   ],
   "source": [
    "test_df.isnull().sum()"
   ]
  },
  {
   "cell_type": "code",
   "execution_count": 33,
   "id": "b308378d-ae8c-4cce-a56a-27a89173bd4c",
   "metadata": {},
   "outputs": [],
   "source": [
    "from sklearn.preprocessing import LabelEncoder\n",
    "\n",
    "# List of columns to label encode\n",
    "columns_to_encode_test = ['Age', 'Weight_kg','Hormonal_Imbalance', 'Hyperandrogenism', \n",
    "                     'Hirsutism', 'Conception_Difficulty', 'Insulin_Resistance', 'Exercise_Frequency', \n",
    "                     'Exercise_Type', 'Exercise_Duration', 'Sleep_Hours', 'Exercise_Benefit']\n",
    "\n",
    "# Initialize the LabelEncoder\n",
    "le = LabelEncoder()"
   ]
  },
  {
   "cell_type": "code",
   "execution_count": 35,
   "id": "9c2b1bb7-aa9c-48b7-b13b-85648f076d56",
   "metadata": {},
   "outputs": [
    {
     "name": "stdout",
     "output_type": "stream",
     "text": [
      "After filling missing values:\n",
      "            Age  Weight_kg Hormonal_Imbalance Hyperandrogenism Hirsutism  \\\n",
      "0         20-25       54.0                 No               No        No   \n",
      "1         20-25       65.0                Yes               No        No   \n",
      "2         20-25       64.0                Yes               No        No   \n",
      "3  Less than 20       57.0                Yes               No       Yes   \n",
      "4  Less than 20        6.0                Yes               No       Yes   \n",
      "\n",
      "  Conception_Difficulty Insulin_Resistance Exercise_Frequency Exercise_Type  \\\n",
      "0                    No                 No             Rarely   No Exercise   \n",
      "1                    No                 No   3-4 Times a Week   No Exercise   \n",
      "2                    No                 No   6-8 Times a Week  Cardio (e.g.   \n",
      "3                    No                Yes             Rarely   No Exercise   \n",
      "4                    No                 No             Rarely  Cardio (e.g.   \n",
      "\n",
      "      Exercise_Duration Sleep_Hours Exercise_Benefit  \n",
      "0  Less than 30 minutes   6-8 hours         Somewhat  \n",
      "1        Not Applicable   6-8 hours         Somewhat  \n",
      "2        Not Applicable   6-8 hours         Somewhat  \n",
      "3             6-8 hours   6-8 hours         Somewhat  \n",
      "4            30 minutes   6-8 hours         Somewhat  \n"
     ]
    }
   ],
   "source": [
    "# Fill missing values with the mode (most frequent value) for each column\n",
    "for col in columns_to_encode_test:\n",
    "    test_df[col] = test_df[col].fillna(test_df[col].mode()[0])\n",
    "\n",
    "# Display the DataFrame after filling missing values\n",
    "print(\"After filling missing values:\")\n",
    "print(test_df[columns_to_encode_test].head())"
   ]
  },
  {
   "cell_type": "code",
   "execution_count": 37,
   "id": "7f410900-b073-4c8e-8d37-90bceec324eb",
   "metadata": {},
   "outputs": [
    {
     "data": {
      "text/plain": [
       "array([  0,   1,   2,   3,   4,   5,   6,   7,   8,   9,  10,  11,  12,\n",
       "        13,  14,  15,  16,  17,  18,  19,  20,  21,  22,  23,  24,  25,\n",
       "        26,  27,  28,  29,  30,  31,  32,  33,  34,  35,  36,  37,  38,\n",
       "        39,  40,  41,  42,  43,  44,  45,  46,  47,  48,  49,  50,  51,\n",
       "        52,  53,  54,  55,  56,  57,  58,  59,  60,  61,  62,  63,  64,\n",
       "        65,  66,  67,  68,  69,  70,  71,  72,  73,  74,  75,  76,  77,\n",
       "        78,  79,  80,  81,  82,  83,  84,  85,  86,  87,  88,  89,  90,\n",
       "        91,  92,  93,  94,  95,  96,  97,  98,  99, 100, 101, 102, 103,\n",
       "       104, 105, 106, 107, 108, 109, 110, 111, 112, 113, 114, 115, 116,\n",
       "       117, 118, 119, 120, 121, 122, 123, 124, 125, 126, 127, 128, 129,\n",
       "       130, 131, 132, 133, 134, 135, 136, 137, 138, 139, 140, 141, 142,\n",
       "       143, 144], dtype=int64)"
      ]
     },
     "execution_count": 37,
     "metadata": {},
     "output_type": "execute_result"
    }
   ],
   "source": [
    "test_df[\"ID\"].unique()"
   ]
  },
  {
   "cell_type": "code",
   "execution_count": 39,
   "id": "3d1693f6-85e1-454b-97db-68b042e74645",
   "metadata": {},
   "outputs": [
    {
     "data": {
      "text/plain": [
       "array([  0,   1,   2,   3,   4,   5,   6,   7,   8,   9,  10,  11,  12,\n",
       "        13,  14,  15,  16,  17,  18,  19,  20,  21,  22,  23,  24,  25,\n",
       "        26,  27,  28,  29,  30,  31,  32,  33,  34,  35,  36,  37,  38,\n",
       "        39,  40,  41,  42,  43,  44,  45,  46,  47,  48,  49,  50,  51,\n",
       "        52,  53,  54,  55,  56,  57,  58,  59,  60,  61,  62,  63,  64,\n",
       "        65,  66,  67,  68,  69,  70,  71,  72,  73,  74,  75,  76,  77,\n",
       "        78,  79,  80,  81,  82,  83,  84,  85,  86,  87,  88,  89,  90,\n",
       "        91,  92,  93,  94,  95,  96,  97,  98,  99, 100, 101, 102, 103,\n",
       "       104, 105, 106, 107, 108, 109, 110, 111, 112, 113, 114, 115, 116,\n",
       "       117, 118, 119, 120, 121, 122, 123, 124, 125, 126, 127, 128, 129,\n",
       "       130, 131, 132, 133, 134, 135, 136, 137, 138, 139, 140, 141, 142,\n",
       "       143, 144], dtype=int64)"
      ]
     },
     "execution_count": 39,
     "metadata": {},
     "output_type": "execute_result"
    }
   ],
   "source": [
    "from sklearn.preprocessing import LabelEncoder\n",
    "le_ID = LabelEncoder()\n",
    "test_df['ID'] = le_ID.fit_transform(test_df['ID'])\n",
    "test_df[\"ID\"].unique()"
   ]
  },
  {
   "cell_type": "code",
   "execution_count": 41,
   "id": "df1e802b-b1e5-4754-bcd6-073c2577cb74",
   "metadata": {},
   "outputs": [
    {
     "data": {
      "text/plain": [
       "array([ 1, 10,  7, 12,  4, 11,  5,  3,  9,  2,  0,  6,  8])"
      ]
     },
     "execution_count": 41,
     "metadata": {},
     "output_type": "execute_result"
    }
   ],
   "source": [
    "from sklearn.preprocessing import LabelEncoder\n",
    "le_Age = LabelEncoder()\n",
    "test_df['Age'] = le_Age.fit_transform(test_df['Age'])\n",
    "test_df[\"Age\"].unique()"
   ]
  },
  {
   "cell_type": "code",
   "execution_count": 43,
   "id": "d5c6d316-0dbc-47e6-a26b-cf2608bfcdd6",
   "metadata": {},
   "outputs": [
    {
     "data": {
      "text/plain": [
       "array([18, 29, 28, 21,  0, 19, 20, 10, 33, 11, 24,  2, 15, 13, 23, 12,  9,\n",
       "       14, 32,  8, 30, 16, 31, 22,  1, 17, 27, 34,  5, 26, 25,  4, 35,  6,\n",
       "        3,  7, 36, 37], dtype=int64)"
      ]
     },
     "execution_count": 43,
     "metadata": {},
     "output_type": "execute_result"
    }
   ],
   "source": [
    "from sklearn.preprocessing import LabelEncoder\n",
    "le_Weight_kg = LabelEncoder()\n",
    "test_df['Weight_kg'] = le_Weight_kg.fit_transform(test_df['Weight_kg'])\n",
    "test_df[\"Weight_kg\"].unique()"
   ]
  },
  {
   "cell_type": "code",
   "execution_count": 45,
   "id": "cb13db81-ad2f-4683-b03c-9ed7553dafb0",
   "metadata": {},
   "outputs": [
    {
     "data": {
      "text/plain": [
       "array([0, 1])"
      ]
     },
     "execution_count": 45,
     "metadata": {},
     "output_type": "execute_result"
    }
   ],
   "source": [
    "from sklearn.preprocessing import LabelEncoder\n",
    "le_Hormonal_Imbalance = LabelEncoder()\n",
    "test_df['Hormonal_Imbalance'] = le_Hormonal_Imbalance.fit_transform(test_df['Hormonal_Imbalance'])\n",
    "test_df[\"Hormonal_Imbalance\"].unique()"
   ]
  },
  {
   "cell_type": "code",
   "execution_count": 47,
   "id": "08452d7f-72cb-4e6a-9e4e-1476f417f178",
   "metadata": {},
   "outputs": [
    {
     "data": {
      "text/plain": [
       "array([0, 1])"
      ]
     },
     "execution_count": 47,
     "metadata": {},
     "output_type": "execute_result"
    }
   ],
   "source": [
    "from sklearn.preprocessing import LabelEncoder\n",
    "le_Hyperandrogenism = LabelEncoder()\n",
    "test_df['Hyperandrogenism'] = le_Hyperandrogenism.fit_transform(test_df['Hyperandrogenism'])\n",
    "test_df[\"Hyperandrogenism\"].unique()"
   ]
  },
  {
   "cell_type": "code",
   "execution_count": 49,
   "id": "4ed3146d-7312-4396-bbee-198e782e208f",
   "metadata": {},
   "outputs": [
    {
     "data": {
      "text/plain": [
       "array([0, 1])"
      ]
     },
     "execution_count": 49,
     "metadata": {},
     "output_type": "execute_result"
    }
   ],
   "source": [
    "from sklearn.preprocessing import LabelEncoder\n",
    "le_Hirsutism = LabelEncoder()\n",
    "test_df['Hirsutism'] = le_Hirsutism.fit_transform(test_df['Hirsutism'])\n",
    "test_df[\"Hirsutism\"].unique()"
   ]
  },
  {
   "cell_type": "code",
   "execution_count": 51,
   "id": "15ee3f87-be82-40a2-937c-3044debcfdbc",
   "metadata": {},
   "outputs": [
    {
     "data": {
      "text/plain": [
       "array([0, 2, 1])"
      ]
     },
     "execution_count": 51,
     "metadata": {},
     "output_type": "execute_result"
    }
   ],
   "source": [
    "from sklearn.preprocessing import LabelEncoder\n",
    "le_Conception_Difficulty = LabelEncoder()\n",
    "test_df['Conception_Difficulty'] = le_Conception_Difficulty.fit_transform(test_df['Conception_Difficulty'])\n",
    "test_df[\"Conception_Difficulty\"].unique()"
   ]
  },
  {
   "cell_type": "code",
   "execution_count": 53,
   "id": "2ab3a783-6ab7-4570-bce6-b9db9a2dad25",
   "metadata": {},
   "outputs": [
    {
     "data": {
      "text/plain": [
       "array([0, 1, 2])"
      ]
     },
     "execution_count": 53,
     "metadata": {},
     "output_type": "execute_result"
    }
   ],
   "source": [
    "from sklearn.preprocessing import LabelEncoder\n",
    "le_Insulin_Resistance = LabelEncoder()\n",
    "test_df['Insulin_Resistance'] = le_Insulin_Resistance.fit_transform(test_df['Insulin_Resistance'])\n",
    "test_df[\"Insulin_Resistance\"].unique()"
   ]
  },
  {
   "cell_type": "code",
   "execution_count": 55,
   "id": "1bc77c72-2c8a-4e5f-9cba-5a608468dae8",
   "metadata": {},
   "outputs": [
    {
     "data": {
      "text/plain": [
       "array([10,  2,  4,  9,  0,  8,  7,  3,  6, 11,  5,  1])"
      ]
     },
     "execution_count": 55,
     "metadata": {},
     "output_type": "execute_result"
    }
   ],
   "source": [
    "from sklearn.preprocessing import LabelEncoder\n",
    "le_Exercise_Frequency = LabelEncoder()\n",
    "test_df['Exercise_Frequency'] = le_Exercise_Frequency.fit_transform(test_df['Exercise_Frequency'])\n",
    "test_df[\"Exercise_Frequency\"].unique()"
   ]
  },
  {
   "cell_type": "code",
   "execution_count": 57,
   "id": "6228dbbf-692f-4f3f-9963-d5871867b860",
   "metadata": {},
   "outputs": [
    {
     "data": {
      "text/plain": [
       "array([ 3,  0,  8,  9, 10,  1,  2,  5,  4,  6,  7])"
      ]
     },
     "execution_count": 57,
     "metadata": {},
     "output_type": "execute_result"
    }
   ],
   "source": [
    "from sklearn.preprocessing import LabelEncoder\n",
    "le_Exercise_Type = LabelEncoder()\n",
    "test_df['Exercise_Type'] = le_Exercise_Type.fit_transform(test_df['Exercise_Type'])\n",
    "test_df[\"Exercise_Type\"].unique()"
   ]
  },
  {
   "cell_type": "code",
   "execution_count": 59,
   "id": "de5a1f9b-24be-456b-bc1c-bc1b035053bf",
   "metadata": {},
   "outputs": [
    {
     "data": {
      "text/plain": [
       "array([ 8, 10,  6,  3,  1,  9,  7,  4,  2, 11,  0,  5])"
      ]
     },
     "execution_count": 59,
     "metadata": {},
     "output_type": "execute_result"
    }
   ],
   "source": [
    "from sklearn.preprocessing import LabelEncoder\n",
    "le_Exercise_Duration = LabelEncoder()\n",
    "test_df['Exercise_Duration'] = le_Exercise_Duration.fit_transform(test_df['Exercise_Duration'])\n",
    "test_df[\"Exercise_Duration\"].unique()"
   ]
  },
  {
   "cell_type": "code",
   "execution_count": 61,
   "id": "69d6d218-4aa5-425d-9eb7-0adb9e6455b2",
   "metadata": {},
   "outputs": [
    {
     "data": {
      "text/plain": [
       "array([4, 5, 6, 3, 1, 2, 0])"
      ]
     },
     "execution_count": 61,
     "metadata": {},
     "output_type": "execute_result"
    }
   ],
   "source": [
    "from sklearn.preprocessing import LabelEncoder\n",
    "le_Sleep_Hours = LabelEncoder()\n",
    "test_df['Sleep_Hours'] = le_Sleep_Hours.fit_transform(test_df['Sleep_Hours'])\n",
    "test_df[\"Sleep_Hours\"].unique()"
   ]
  },
  {
   "cell_type": "code",
   "execution_count": 63,
   "id": "0e7e4bc5-6174-4654-9c7f-71d89bb8763c",
   "metadata": {},
   "outputs": [
    {
     "data": {
      "text/plain": [
       "array([2, 1, 3, 0])"
      ]
     },
     "execution_count": 63,
     "metadata": {},
     "output_type": "execute_result"
    }
   ],
   "source": [
    "from sklearn.preprocessing import LabelEncoder\n",
    "le_Exercise_Benefit = LabelEncoder()\n",
    "test_df['Exercise_Benefit'] = le_Exercise_Benefit.fit_transform(test_df['Exercise_Benefit'])\n",
    "test_df[\"Exercise_Benefit\"].unique()"
   ]
  },
  {
   "cell_type": "code",
   "execution_count": 67,
   "id": "cf8edc82-d5b4-455c-83c2-ba489739f181",
   "metadata": {},
   "outputs": [],
   "source": [
    "test_feature = test_df.drop(columns=['ID'])"
   ]
  },
  {
   "cell_type": "code",
   "execution_count": 69,
   "id": "b1efc215-849a-4cea-9114-89cac100f11d",
   "metadata": {},
   "outputs": [],
   "source": [
    "# Get predicted probabilities (for the positive class, i.e., PCOS=1)\n",
    "y_pred_prob = model.predict_proba(test_feature)[:, 1]\n"
   ]
  },
  {
   "cell_type": "code",
   "execution_count": 71,
   "id": "d0a43c6d-e857-461d-974a-0dc6a73a66a9",
   "metadata": {},
   "outputs": [
    {
     "data": {
      "text/plain": [
       "array([0.04, 0.01, 0.02, 0.15, 0.46, 0.03, 0.03, 0.08, 0.04, 0.05, 0.  ,\n",
       "       0.03, 0.04, 0.07, 0.04, 0.33, 0.09, 0.13, 0.07, 0.28, 0.09, 0.07,\n",
       "       0.11, 0.15, 0.01, 0.02, 0.54, 0.01, 0.02, 0.08, 0.07, 0.03, 0.04,\n",
       "       0.03, 0.12, 0.08, 0.41, 0.07, 0.03, 0.15, 0.05, 0.06, 0.15, 0.05,\n",
       "       0.09, 0.41, 0.15, 0.38, 0.16, 0.25, 0.12, 0.01, 0.08, 0.36, 0.1 ,\n",
       "       0.4 , 0.31, 0.39, 0.02, 0.06, 0.  , 0.03, 0.03, 0.17, 0.  , 0.44,\n",
       "       0.14, 0.06, 0.02, 0.06, 0.06, 0.3 , 0.09, 0.08, 0.03, 0.03, 0.08,\n",
       "       0.05, 0.02, 0.04, 0.27, 0.11, 0.04, 0.14, 0.04, 0.07, 0.02, 0.07,\n",
       "       0.04, 0.06, 0.08, 0.12, 0.13, 0.02, 0.07, 0.03, 0.09, 0.04, 0.01,\n",
       "       0.04, 0.19, 0.02, 0.  , 0.14, 0.13, 0.37, 0.14, 0.16, 0.03, 0.14,\n",
       "       0.46, 0.38, 0.1 , 0.1 , 0.01, 0.03, 0.  , 0.02, 0.02, 0.04, 0.18,\n",
       "       0.06, 0.02, 0.02, 0.35, 0.07, 0.06, 0.42, 0.03, 0.01, 0.04, 0.06,\n",
       "       0.11, 0.07, 0.11, 0.04, 0.07, 0.09, 0.21, 0.06, 0.06, 0.04, 0.49,\n",
       "       0.2 , 0.  ])"
      ]
     },
     "execution_count": 71,
     "metadata": {},
     "output_type": "execute_result"
    }
   ],
   "source": [
    "y_pred_prob"
   ]
  },
  {
   "cell_type": "code",
   "execution_count": 73,
   "id": "d878967a-0518-4371-bce6-e49e5b466c48",
   "metadata": {},
   "outputs": [],
   "source": [
    "# Add predicted PCOS probability as a new column in test_df\n",
    "test_df['PCOS'] = y_pred_prob"
   ]
  },
  {
   "cell_type": "code",
   "execution_count": 75,
   "id": "fe513803-c65a-407c-bdda-6ead52f58258",
   "metadata": {},
   "outputs": [
    {
     "data": {
      "text/html": [
       "<div>\n",
       "<style scoped>\n",
       "    .dataframe tbody tr th:only-of-type {\n",
       "        vertical-align: middle;\n",
       "    }\n",
       "\n",
       "    .dataframe tbody tr th {\n",
       "        vertical-align: top;\n",
       "    }\n",
       "\n",
       "    .dataframe thead th {\n",
       "        text-align: right;\n",
       "    }\n",
       "</style>\n",
       "<table border=\"1\" class=\"dataframe\">\n",
       "  <thead>\n",
       "    <tr style=\"text-align: right;\">\n",
       "      <th></th>\n",
       "      <th>ID</th>\n",
       "      <th>Age</th>\n",
       "      <th>Weight_kg</th>\n",
       "      <th>Hormonal_Imbalance</th>\n",
       "      <th>Hyperandrogenism</th>\n",
       "      <th>Hirsutism</th>\n",
       "      <th>Conception_Difficulty</th>\n",
       "      <th>Insulin_Resistance</th>\n",
       "      <th>Exercise_Frequency</th>\n",
       "      <th>Exercise_Type</th>\n",
       "      <th>Exercise_Duration</th>\n",
       "      <th>Sleep_Hours</th>\n",
       "      <th>Exercise_Benefit</th>\n",
       "      <th>PCOS</th>\n",
       "    </tr>\n",
       "  </thead>\n",
       "  <tbody>\n",
       "    <tr>\n",
       "      <th>0</th>\n",
       "      <td>0</td>\n",
       "      <td>1</td>\n",
       "      <td>18</td>\n",
       "      <td>0</td>\n",
       "      <td>0</td>\n",
       "      <td>0</td>\n",
       "      <td>0</td>\n",
       "      <td>0</td>\n",
       "      <td>10</td>\n",
       "      <td>3</td>\n",
       "      <td>8</td>\n",
       "      <td>4</td>\n",
       "      <td>2</td>\n",
       "      <td>0.04</td>\n",
       "    </tr>\n",
       "    <tr>\n",
       "      <th>1</th>\n",
       "      <td>1</td>\n",
       "      <td>1</td>\n",
       "      <td>29</td>\n",
       "      <td>1</td>\n",
       "      <td>0</td>\n",
       "      <td>0</td>\n",
       "      <td>0</td>\n",
       "      <td>0</td>\n",
       "      <td>2</td>\n",
       "      <td>3</td>\n",
       "      <td>10</td>\n",
       "      <td>4</td>\n",
       "      <td>2</td>\n",
       "      <td>0.01</td>\n",
       "    </tr>\n",
       "    <tr>\n",
       "      <th>2</th>\n",
       "      <td>2</td>\n",
       "      <td>1</td>\n",
       "      <td>28</td>\n",
       "      <td>1</td>\n",
       "      <td>0</td>\n",
       "      <td>0</td>\n",
       "      <td>0</td>\n",
       "      <td>0</td>\n",
       "      <td>4</td>\n",
       "      <td>0</td>\n",
       "      <td>10</td>\n",
       "      <td>4</td>\n",
       "      <td>2</td>\n",
       "      <td>0.02</td>\n",
       "    </tr>\n",
       "    <tr>\n",
       "      <th>3</th>\n",
       "      <td>3</td>\n",
       "      <td>10</td>\n",
       "      <td>21</td>\n",
       "      <td>1</td>\n",
       "      <td>0</td>\n",
       "      <td>1</td>\n",
       "      <td>0</td>\n",
       "      <td>1</td>\n",
       "      <td>10</td>\n",
       "      <td>3</td>\n",
       "      <td>6</td>\n",
       "      <td>4</td>\n",
       "      <td>2</td>\n",
       "      <td>0.15</td>\n",
       "    </tr>\n",
       "    <tr>\n",
       "      <th>4</th>\n",
       "      <td>4</td>\n",
       "      <td>10</td>\n",
       "      <td>0</td>\n",
       "      <td>1</td>\n",
       "      <td>0</td>\n",
       "      <td>1</td>\n",
       "      <td>0</td>\n",
       "      <td>0</td>\n",
       "      <td>10</td>\n",
       "      <td>0</td>\n",
       "      <td>3</td>\n",
       "      <td>4</td>\n",
       "      <td>2</td>\n",
       "      <td>0.46</td>\n",
       "    </tr>\n",
       "    <tr>\n",
       "      <th>...</th>\n",
       "      <td>...</td>\n",
       "      <td>...</td>\n",
       "      <td>...</td>\n",
       "      <td>...</td>\n",
       "      <td>...</td>\n",
       "      <td>...</td>\n",
       "      <td>...</td>\n",
       "      <td>...</td>\n",
       "      <td>...</td>\n",
       "      <td>...</td>\n",
       "      <td>...</td>\n",
       "      <td>...</td>\n",
       "      <td>...</td>\n",
       "      <td>...</td>\n",
       "    </tr>\n",
       "    <tr>\n",
       "      <th>140</th>\n",
       "      <td>140</td>\n",
       "      <td>1</td>\n",
       "      <td>16</td>\n",
       "      <td>1</td>\n",
       "      <td>0</td>\n",
       "      <td>0</td>\n",
       "      <td>0</td>\n",
       "      <td>0</td>\n",
       "      <td>10</td>\n",
       "      <td>0</td>\n",
       "      <td>8</td>\n",
       "      <td>4</td>\n",
       "      <td>2</td>\n",
       "      <td>0.06</td>\n",
       "    </tr>\n",
       "    <tr>\n",
       "      <th>141</th>\n",
       "      <td>141</td>\n",
       "      <td>1</td>\n",
       "      <td>31</td>\n",
       "      <td>0</td>\n",
       "      <td>0</td>\n",
       "      <td>0</td>\n",
       "      <td>0</td>\n",
       "      <td>0</td>\n",
       "      <td>10</td>\n",
       "      <td>9</td>\n",
       "      <td>8</td>\n",
       "      <td>4</td>\n",
       "      <td>1</td>\n",
       "      <td>0.04</td>\n",
       "    </tr>\n",
       "    <tr>\n",
       "      <th>142</th>\n",
       "      <td>142</td>\n",
       "      <td>1</td>\n",
       "      <td>19</td>\n",
       "      <td>1</td>\n",
       "      <td>1</td>\n",
       "      <td>1</td>\n",
       "      <td>2</td>\n",
       "      <td>0</td>\n",
       "      <td>10</td>\n",
       "      <td>0</td>\n",
       "      <td>7</td>\n",
       "      <td>4</td>\n",
       "      <td>3</td>\n",
       "      <td>0.49</td>\n",
       "    </tr>\n",
       "    <tr>\n",
       "      <th>143</th>\n",
       "      <td>143</td>\n",
       "      <td>10</td>\n",
       "      <td>13</td>\n",
       "      <td>0</td>\n",
       "      <td>0</td>\n",
       "      <td>1</td>\n",
       "      <td>0</td>\n",
       "      <td>0</td>\n",
       "      <td>1</td>\n",
       "      <td>0</td>\n",
       "      <td>8</td>\n",
       "      <td>4</td>\n",
       "      <td>0</td>\n",
       "      <td>0.20</td>\n",
       "    </tr>\n",
       "    <tr>\n",
       "      <th>144</th>\n",
       "      <td>144</td>\n",
       "      <td>1</td>\n",
       "      <td>19</td>\n",
       "      <td>1</td>\n",
       "      <td>0</td>\n",
       "      <td>0</td>\n",
       "      <td>0</td>\n",
       "      <td>0</td>\n",
       "      <td>0</td>\n",
       "      <td>1</td>\n",
       "      <td>8</td>\n",
       "      <td>4</td>\n",
       "      <td>2</td>\n",
       "      <td>0.00</td>\n",
       "    </tr>\n",
       "  </tbody>\n",
       "</table>\n",
       "<p>145 rows × 14 columns</p>\n",
       "</div>"
      ],
      "text/plain": [
       "      ID  Age  Weight_kg  Hormonal_Imbalance  Hyperandrogenism  Hirsutism  \\\n",
       "0      0    1         18                   0                 0          0   \n",
       "1      1    1         29                   1                 0          0   \n",
       "2      2    1         28                   1                 0          0   \n",
       "3      3   10         21                   1                 0          1   \n",
       "4      4   10          0                   1                 0          1   \n",
       "..   ...  ...        ...                 ...               ...        ...   \n",
       "140  140    1         16                   1                 0          0   \n",
       "141  141    1         31                   0                 0          0   \n",
       "142  142    1         19                   1                 1          1   \n",
       "143  143   10         13                   0                 0          1   \n",
       "144  144    1         19                   1                 0          0   \n",
       "\n",
       "     Conception_Difficulty  Insulin_Resistance  Exercise_Frequency  \\\n",
       "0                        0                   0                  10   \n",
       "1                        0                   0                   2   \n",
       "2                        0                   0                   4   \n",
       "3                        0                   1                  10   \n",
       "4                        0                   0                  10   \n",
       "..                     ...                 ...                 ...   \n",
       "140                      0                   0                  10   \n",
       "141                      0                   0                  10   \n",
       "142                      2                   0                  10   \n",
       "143                      0                   0                   1   \n",
       "144                      0                   0                   0   \n",
       "\n",
       "     Exercise_Type  Exercise_Duration  Sleep_Hours  Exercise_Benefit  PCOS  \n",
       "0                3                  8            4                 2  0.04  \n",
       "1                3                 10            4                 2  0.01  \n",
       "2                0                 10            4                 2  0.02  \n",
       "3                3                  6            4                 2  0.15  \n",
       "4                0                  3            4                 2  0.46  \n",
       "..             ...                ...          ...               ...   ...  \n",
       "140              0                  8            4                 2  0.06  \n",
       "141              9                  8            4                 1  0.04  \n",
       "142              0                  7            4                 3  0.49  \n",
       "143              0                  8            4                 0  0.20  \n",
       "144              1                  8            4                 2  0.00  \n",
       "\n",
       "[145 rows x 14 columns]"
      ]
     },
     "execution_count": 75,
     "metadata": {},
     "output_type": "execute_result"
    }
   ],
   "source": [
    "test_df"
   ]
  },
  {
   "cell_type": "code",
   "execution_count": 77,
   "id": "e8a9f850-bba9-4655-9f4d-e840d54b0d19",
   "metadata": {},
   "outputs": [
    {
     "data": {
      "text/plain": [
       "array([ 4,  1,  2, 15, 37,  3,  8,  5,  0,  7, 27,  9, 13, 24, 11, 39, 12,\n",
       "       34,  6, 31, 16, 22, 29, 10, 33, 26, 32, 17, 36, 14, 25, 23, 19, 30,\n",
       "       18, 28, 35, 21, 38, 20], dtype=int64)"
      ]
     },
     "execution_count": 77,
     "metadata": {},
     "output_type": "execute_result"
    }
   ],
   "source": [
    "from sklearn.preprocessing import LabelEncoder\n",
    "le_PCOS = LabelEncoder()\n",
    "test_df['PCOS'] = le_PCOS.fit_transform(test_df['PCOS'])\n",
    "test_df[\"PCOS\"].unique()"
   ]
  },
  {
   "cell_type": "code",
   "execution_count": 79,
   "id": "7b44ccbc-e68b-4a2d-ab50-e45bebe4d9fd",
   "metadata": {},
   "outputs": [],
   "source": [
    "# Convert probability to binary prediction (threshold = 0.5)\n",
    "test_df['PCOS_Predicted'] = (test_df['PCOS'] > 0.5).astype(int)"
   ]
  },
  {
   "cell_type": "code",
   "execution_count": 81,
   "id": "dea95edf-9dd0-4948-82a8-86f58f5dfd99",
   "metadata": {},
   "outputs": [
    {
     "name": "stdout",
     "output_type": "stream",
     "text": [
      "Test dataset with predictions:\n",
      "   ID  Age  Weight_kg  Hormonal_Imbalance  Hyperandrogenism  Hirsutism  \\\n",
      "0   0    1         18                   0                 0          0   \n",
      "1   1    1         29                   1                 0          0   \n",
      "2   2    1         28                   1                 0          0   \n",
      "3   3   10         21                   1                 0          1   \n",
      "4   4   10          0                   1                 0          1   \n",
      "\n",
      "   Conception_Difficulty  Insulin_Resistance  Exercise_Frequency  \\\n",
      "0                      0                   0                  10   \n",
      "1                      0                   0                   2   \n",
      "2                      0                   0                   4   \n",
      "3                      0                   1                  10   \n",
      "4                      0                   0                  10   \n",
      "\n",
      "   Exercise_Type  Exercise_Duration  Sleep_Hours  Exercise_Benefit  PCOS  \\\n",
      "0              3                  8            4                 2     4   \n",
      "1              3                 10            4                 2     1   \n",
      "2              0                 10            4                 2     2   \n",
      "3              3                  6            4                 2    15   \n",
      "4              0                  3            4                 2    37   \n",
      "\n",
      "   PCOS_Predicted  \n",
      "0               1  \n",
      "1               1  \n",
      "2               1  \n",
      "3               1  \n",
      "4               1  \n"
     ]
    }
   ],
   "source": [
    "# Display the updated test dataframe\n",
    "print(\"Test dataset with predictions:\")\n",
    "print(test_df.head())"
   ]
  },
  {
   "cell_type": "code",
   "execution_count": 83,
   "id": "e04de09e-1ca8-4cf4-a260-289f622d9f9e",
   "metadata": {},
   "outputs": [
    {
     "name": "stdout",
     "output_type": "stream",
     "text": [
      "Predictions saved to sample_submission.csv\n"
     ]
    }
   ],
   "source": [
    "# Create output DataFrame with 'ID' and 'PCOS'\n",
    "output = pd.DataFrame({'ID': test_df['ID'], 'PCOS': y_pred_prob})\n",
    "\n",
    "# Save to CSV file\n",
    "output.to_csv(\"sample_submission6.csv\", index=False)\n",
    "\n",
    "print(\"Predictions saved to sample_submission.csv\")"
   ]
  },
  {
   "cell_type": "code",
   "execution_count": 85,
   "id": "394ed42b-9af7-498f-b146-03bcf994126e",
   "metadata": {},
   "outputs": [
    {
     "data": {
      "text/plain": [
       "array([['20-25', '54', 'No', 'No', 'No', 'No', 'No', 'Rarely',\n",
       "        'No Exercise', 'Less than 30 minutes', '6-8 hours', 'Somewhat']],\n",
       "      dtype='<U20')"
      ]
     },
     "execution_count": 85,
     "metadata": {},
     "output_type": "execute_result"
    }
   ],
   "source": [
    "x = np.array([[\"20-25\", \"54\", \"No\", \"No\", \"No\", \"No\", \"No\", \"Rarely\", \"No Exercise\", \"Less than 30 minutes\", \"6-8 hours\", \"Somewhat\"]])\n",
    "x"
   ]
  },
  {
   "cell_type": "code",
   "execution_count": 87,
   "id": "677fdbc7-5aad-410d-8dec-8748c131a3fd",
   "metadata": {},
   "outputs": [
    {
     "data": {
      "text/plain": [
       "array([['0', '0', '0', '0', '0', '0', '0', '0', '0', '0', '0', '0']],\n",
       "      dtype='<U20')"
      ]
     },
     "execution_count": 87,
     "metadata": {},
     "output_type": "execute_result"
    }
   ],
   "source": [
    "x[:, 0] = le_Age.fit_transform(x[:, 0])\n",
    "x[:, 1] = le_Weight_kg.fit_transform(x[:, 1])\n",
    "x[:, 2] = le_Hormonal_Imbalance .fit_transform(x[:, 2])\n",
    "x[:, 3] = le_Hyperandrogenism .fit_transform(x[:, 3])\n",
    "x[:, 4] = le_Hirsutism .fit_transform(x[:, 4])\n",
    "x[:, 5] = le_Conception_Difficulty .fit_transform(x[:, 5])\n",
    "x[:, 6] = le_Insulin_Resistance .fit_transform(x[:, 6])\n",
    "x[:, 7] = le_Exercise_Frequency.fit_transform(x[:, 7])\n",
    "x[:, 8] = le_Exercise_Type.fit_transform(x[:, 8])\n",
    "x[:, 9] = le_Exercise_Duration .fit_transform(x[:, 9])\n",
    "x[:, 10] = le_Sleep_Hours .fit_transform(x[:, 10])\n",
    "x[:, 11] = le_Exercise_Benefit .fit_transform(x[:, 11])\n",
    "\n",
    "x"
   ]
  },
  {
   "cell_type": "code",
   "execution_count": 91,
   "id": "6a8099df-af46-41b7-b591-711cc5025c91",
   "metadata": {},
   "outputs": [],
   "source": [
    "regressor = RandomForestClassifier"
   ]
  },
  {
   "cell_type": "code",
   "execution_count": 93,
   "id": "f85d0013-50ea-4d48-aa5c-e04eb5407c76",
   "metadata": {},
   "outputs": [
    {
     "name": "stdout",
     "output_type": "stream",
     "text": [
      "File saved successfully.\n"
     ]
    }
   ],
   "source": [
    "import pickle\n",
    "\n",
    "data_to_save = {\n",
    "    \"model\": regressor,\n",
    "    \"le_Age\": le_Age,\n",
    "    \"le_Weight_kg\": le_Weight_kg,\n",
    "    \"le_Hormonal_Imbalance\": le_Hormonal_Imbalance,\n",
    "    \"le_Hyperandrogenism\": le_Hyperandrogenism,\n",
    "    \"le_Hirsutism\": le_Hirsutism,\n",
    "    \"le_Conception_Difficulty\": le_Conception_Difficulty,\n",
    "    \"le_Insulin_Resistance\": le_Insulin_Resistance,\n",
    "    \"le_Exercise_Frequency\": le_Exercise_Frequency,\n",
    "    \"le_Exercise_Type\":le_Exercise_Type,\n",
    "    \"le_Exercise_Duration\": le_Exercise_Duration,\n",
    "    \"le_Sleep_Hours\": le_Sleep_Hours,\n",
    "    \"le_Exercise_Benefit\":le_Exercise_Benefit\n",
    "}\n",
    "\n",
    "with open('PCOS.pkl', 'wb') as file:\n",
    "    pickle.dump(data_to_save, file)\n",
    "\n",
    "print(\"File saved successfully.\")"
   ]
  },
  {
   "cell_type": "code",
   "execution_count": null,
   "id": "7d91a667-3e9f-4071-8ee6-a706d042e12e",
   "metadata": {},
   "outputs": [],
   "source": []
  },
  {
   "cell_type": "code",
   "execution_count": null,
   "id": "993d324f-fcad-4ef8-b687-6eddc4aa8475",
   "metadata": {},
   "outputs": [],
   "source": []
  }
 ],
 "metadata": {
  "kernelspec": {
   "display_name": "Python 3 (ipykernel)",
   "language": "python",
   "name": "python3"
  },
  "language_info": {
   "codemirror_mode": {
    "name": "ipython",
    "version": 3
   },
   "file_extension": ".py",
   "mimetype": "text/x-python",
   "name": "python",
   "nbconvert_exporter": "python",
   "pygments_lexer": "ipython3",
   "version": "3.12.4"
  }
 },
 "nbformat": 4,
 "nbformat_minor": 5
}
